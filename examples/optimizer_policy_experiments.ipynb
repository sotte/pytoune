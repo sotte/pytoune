{
 "cells": [
  {
   "cell_type": "markdown",
   "metadata": {},
   "source": [
    "# Optimizer policy experiments"
   ]
  },
  {
   "cell_type": "code",
   "execution_count": 1,
   "metadata": {},
   "outputs": [],
   "source": [
    "import os\n",
    "import sys\n",
    "import math\n",
    "\n",
    "import numpy as np\n",
    "\n",
    "import torch\n",
    "import torch.nn as nn\n",
    "import torch.functional as F\n",
    "import torch.optim as optim\n",
    "from torch.utils.data import Dataset\n",
    "import torchvision\n",
    "import torchvision.datasets as datasets\n",
    "\n",
    "import matplotlib.pyplot as plt\n",
    "\n",
    "%matplotlib inline"
   ]
  },
  {
   "cell_type": "code",
   "execution_count": 2,
   "metadata": {},
   "outputs": [
    {
     "name": "stdout",
     "output_type": "stream",
     "text": [
      "cuda:0\n"
     ]
    }
   ],
   "source": [
    "device = torch.device(\"cuda:0\" if torch.cuda.is_available() else \"cpu\")\n",
    "assert \"cuda\" in str(device)\n",
    "torch.backends.cudnn.benchmark = True\n",
    "print(device)"
   ]
  },
  {
   "cell_type": "code",
   "execution_count": 3,
   "metadata": {},
   "outputs": [],
   "source": [
    "from cifar import get_cifar_dataloaders"
   ]
  },
  {
   "cell_type": "code",
   "execution_count": 4,
   "metadata": {},
   "outputs": [
    {
     "name": "stdout",
     "output_type": "stream",
     "text": [
      "Files already downloaded and verified\n",
      "Files already downloaded and verified\n"
     ]
    }
   ],
   "source": [
    "batch_size = 256\n",
    "train_dl, val_dl = get_cifar_dataloaders(batch_size)"
   ]
  },
  {
   "cell_type": "code",
   "execution_count": 5,
   "metadata": {},
   "outputs": [],
   "source": [
    "import torch.optim.lr_scheduler as lr_scheduler"
   ]
  },
  {
   "cell_type": "markdown",
   "metadata": {},
   "source": [
    "# Simple interface to set different aspects of the optimizer"
   ]
  },
  {
   "cell_type": "code",
   "execution_count": 6,
   "metadata": {},
   "outputs": [],
   "source": [
    "from pytoune.framework.callbacks import Callback\n",
    "\n",
    "class OptimizerPolicy(Callback):\n",
    "    def __init__(self, name, values):\n",
    "        self.name = name\n",
    "        self.values = values\n",
    "\n",
    "        # the model does not track the total number of steps taken\n",
    "        # so we track it here\n",
    "        self.current_step = 0\n",
    "        \n",
    "    def on_batch_begin(self, batch, logs):\n",
    "        value = self.values[self.current_step]\n",
    "        for group in self.model.optimizer.param_groups:\n",
    "            group[self.name] = value\n",
    "\n",
    "        self.current_step += 1"
   ]
  },
  {
   "cell_type": "code",
   "execution_count": 7,
   "metadata": {},
   "outputs": [],
   "source": [
    "from pytoune.framework.model import Model\n",
    "\n",
    "\n",
    "def get_model():\n",
    "    pytorch_model = torchvision.models.resnet18(pretrained=False)\n",
    "    pytorch_model.avgpool = nn.AdaptiveAvgPool2d(1)  # <-- arbitrary input sizes\n",
    "    pytorch_model.fc = nn.Linear(512, 10)\n",
    "    pytorch_model = pytorch_model.to(device)\n",
    "    \n",
    "    criterion = nn.CrossEntropyLoss()\n",
    "    optimizer = optim.SGD(pytorch_model.parameters(), lr=1)\n",
    "\n",
    "    model = Model(pytorch_model, optimizer, criterion, metrics=[\"acc\"])\n",
    "    model.to(device)\n",
    "    return model"
   ]
  },
  {
   "cell_type": "code",
   "execution_count": 8,
   "metadata": {},
   "outputs": [
    {
     "data": {
      "text/plain": [
       "[<matplotlib.lines.Line2D at 0x7f92086b8cc0>]"
      ]
     },
     "execution_count": 8,
     "metadata": {},
     "output_type": "execute_result"
    },
    {
     "data": {
      "image/png": "[encoded data removed]",
      "text/plain": [
       "<Figure size 432x288 with 1 Axes>"
      ]
     },
     "metadata": {},
     "output_type": "display_data"
    }
   ],
   "source": [
    "from math import pi, cos\n",
    "\n",
    "\n",
    "eta_min = 0.1\n",
    "eta_max = 1\n",
    "T_max = 100\n",
    "T_cur = 0\n",
    "\n",
    "\n",
    "class Cosine:\n",
    "    def __init__(self, T_max, eta_min, eta_max):\n",
    "        self.T_max = T_max\n",
    "        self.eta_min = eta_min\n",
    "        self.eta_max = eta_max\n",
    "\n",
    "    def __getitem__(self, T_cur):\n",
    "        T_cur = T_cur % self.T_max\n",
    "        eta_t = eta_min + 0.5 * (self.eta_max - self.eta_min) * (1 + cos(T_cur / self.T_max * pi))\n",
    "        return eta_t\n",
    "\n",
    "cosine = Cosine(T_max, eta_min, eta_max)\n",
    "\n",
    "lrs = [cosine[T_cur] for T_cur in range(T_max*3)]\n",
    "plt.plot(lrs)"
   ]
  },
  {
   "cell_type": "code",
   "execution_count": 9,
   "metadata": {},
   "outputs": [
    {
     "name": "stdout",
     "output_type": "stream",
     "text": [
      "Epoch 1/2 6.71s Step 196/196: loss: 1.964055, acc: 34.344000, val_loss: 1.519574, val_acc: 44.900000\n",
      "Epoch 2/2 6.11s Step 196/196: loss: 1.476322, acc: 46.848000, val_loss: 1.347081, val_acc: 51.170000\n"
     ]
    }
   ],
   "source": [
    "model = get_model()\n",
    "\n",
    "lr_policy = OptimizerPolicy(\"lr\", Cosine(eta_max=0.1, eta_min=0.001, T_max=len(train_dl)))                            \n",
    "mom_policy = OptimizerPolicy(\"momentum\", Cosine(eta_max=0.0, eta_min=0.06, T_max=len(train_dl)))\n",
    "# mom_policy = OptimizerPolicy(\"momentum\", Linear(T_max=len(train_dl), eta_max=0.0, eta_min=0.06))\n",
    "\n",
    "model.fit_generator(\n",
    "    train_dl,\n",
    "    val_dl,\n",
    "    epochs=2,\n",
    "    callbacks=[\n",
    "        lr_policy,\n",
    "        mom_policy,\n",
    "    ],\n",
    ");"
   ]
  },
  {
   "cell_type": "markdown",
   "metadata": {},
   "source": [
    "# Policy setter for different parts of the optimizer\n",
    "One lr setter, one momentum setter, etc."
   ]
  },
  {
   "cell_type": "markdown",
   "metadata": {},
   "source": [
    "```python\n",
    "steps = len(train_dl)\n",
    "\n",
    "# this look nice\n",
    "lr_policy = OptimizerPolicy( \"lr\", [\n",
    "    np.linspace(0.001, 0.1, steps),\n",
    "    Cosine(eta_max=0.1, eta_min=0.001, T_max=steps),\n",
    "    Cosine(eta_max=0.1, eta_min=0.001, T_max=steps*2),\n",
    "])\n",
    "# but it gets cumbersome if you want to set multiple parameters.\n",
    "# now you have to make sure that the length of momentum matches the lr\n",
    "mom_policy = OptimizerPolicy(\"momentum\", [\n",
    "    np.linspace(0, 0, steps),\n",
    "    Cosine(eta_max=0.0, eta_min=0.06, T_max=3*steps),\n",
    "])\n",
    "\n",
    "model = get_model()\n",
    "model.fit_generator(train_dl, val_dl, epochs=100,\n",
    "                    callbacks=[lr_policy, mom_policy]);\n",
    "```"
   ]
  },
  {
   "cell_type": "markdown",
   "metadata": {},
   "source": [
    "It would be hard to switch between different optimizers."
   ]
  },
  {
   "cell_type": "markdown",
   "metadata": {},
   "source": [
    "# Fast.ai-like interface"
   ]
  },
  {
   "cell_type": "code",
   "execution_count": 10,
   "metadata": {},
   "outputs": [],
   "source": [
    "class Phase:\n",
    "    \"\"\"\n",
    "    A Phase just gives you the parameters for an optimizer at step idx.\n",
    "    \n",
    "    The interface is similar to the Dataset class.\n",
    "    \n",
    "    TODO generalize to arbitrary parameters not just lr and momentum.\n",
    "    \"\"\"\n",
    "    def __init__(self, steps, *, lr, momentum=None):\n",
    "        self.steps = steps\n",
    "        self.current_step = 0\n",
    "        \n",
    "        self.lr, self.lr_spec = self._parse_spec(lr, self.steps)        \n",
    "        self.momentum, self.momentum_spec = self._parse_spec(momentum, self.steps)\n",
    "\n",
    "    def __len__(self):\n",
    "        return self.steps\n",
    "    \n",
    "    def __getitem__(self, idx):\n",
    "        result = {}\n",
    "        if self.lr_spec is not None:\n",
    "            result[\"lr\"] = self.lr[idx]\n",
    "        if self.momentum is not None:\n",
    "            result[\"momentum\"] = self.momentum[idx]\n",
    "        return result\n",
    "    \n",
    "    def __repr__(self):\n",
    "        return (\n",
    "            f\"Phase: {self.current_step+1}/{self.steps}\\n\"\n",
    "            f\"    lr: {self.lr_spec}\\n\"\n",
    "            f\"    momentum: {self.momentum_spec}\"\n",
    "        )\n",
    "    \n",
    "    def _parse_spec(self, spec, steps):\n",
    "        if spec is None:\n",
    "            return None, None\n",
    "        \n",
    "        # clean up spec\n",
    "        if isinstance(spec, (int, float)):\n",
    "            spec = (spec, spec, \"linear\")\n",
    "        elif isinstance(spec, tuple) and len(spec) == 2:\n",
    "            spec = (spec[0], spec[1], \"linear\")\n",
    "        \n",
    "        # init from spec\n",
    "        if isinstance(spec, tuple) and len(spec) == 3:\n",
    "            start, end, type_ = spec\n",
    "            if type_ in (\"linear\", \"lin\"):\n",
    "                return np.linspace(start, end, steps), spec\n",
    "            elif type_ in (\"tri\", \"triangular\"):\n",
    "                values = np.block([np.linspace(start, end, math.floor(steps / 2)),\n",
    "                                   np.linspace(end, start, math.ceil(steps / 2))])\n",
    "                return values, spec\n",
    "            elif type_ in (\"cosine\", \"cos\"):\n",
    "                values = [(start + 0.5 * (end - start) * (1 + cos(i / steps * pi)))\n",
    "                          for i in range(steps)]\n",
    "                return values, spec\n",
    "\n",
    "            else:\n",
    "                raise ValueError(f\"The interpolation type most be either 'lin' or 'cosine' but it is {type_}\")\n",
    "        else:\n",
    "            raise ValueError(f\"Invalid specification '{spec}'\")"
   ]
  },
  {
   "cell_type": "code",
   "execution_count": 11,
   "metadata": {},
   "outputs": [],
   "source": [
    "class OptPolicy(Callback):\n",
    "    def __init__(self, phases):\n",
    "        self.phases = phases\n",
    "        self.phase_iter = self._phase_iter()\n",
    "        \n",
    "    def on_batch_begin(self, batch, logs):\n",
    "        try:\n",
    "            spec = next(self.phase_iter)\n",
    "            self._update_optimizer(spec)\n",
    "        except StopIteration:\n",
    "            # Don't do anything when we run out of phases\n",
    "            # TODO there must be a better way\n",
    "            pass\n",
    "    \n",
    "    def _phase_iter(self):\n",
    "        for phase in phases:\n",
    "            print()\n",
    "            print()\n",
    "            print(phase)\n",
    "            print()\n",
    "            for spec in phase:\n",
    "                yield spec\n",
    "\n",
    "        self.no_phases_left = True\n",
    "\n",
    "    def _update_optimizer(self, spec):\n",
    "        for param_name, param_value in spec.items():\n",
    "            for group in self.model.optimizer.param_groups:\n",
    "                group[param_name] = param_value"
   ]
  },
  {
   "cell_type": "markdown",
   "metadata": {},
   "source": [
    "## Simple linear and cosine policy"
   ]
  },
  {
   "cell_type": "code",
   "execution_count": 12,
   "metadata": {},
   "outputs": [
    {
     "name": "stdout",
     "output_type": "stream",
     "text": [
      "Epoch 1/2\n",
      "\n",
      "Phase: 1/196\n",
      "    lr: (0.01, 0.1, 'linear')\n",
      "    momentum: None\n",
      "\n",
      "Epoch 1/2 5.92s Step 196/196: loss: 1.994929, acc: 29.372000, val_loss: 1.854821, val_acc: 35.550000\n",
      "Epoch 2/2 5.88s Step 196/196: loss: 1.548684, acc: 44.120000, val_loss: 1.458954, val_acc: 48.500000\n"
     ]
    }
   ],
   "source": [
    "# we only specify the first epoch with the phase, but we can fit more epochs.\n",
    "steps = len(train_dl)\n",
    "phases = [\n",
    "    Phase(steps, lr=(0.01, 0.1)),\n",
    "]\n",
    "\n",
    "model = get_model()\n",
    "log = model.fit_generator(train_dl, val_dl, epochs=2,\n",
    "                          callbacks=[OptPolicy(phases)])"
   ]
  },
  {
   "cell_type": "code",
   "execution_count": 13,
   "metadata": {},
   "outputs": [
    {
     "name": "stdout",
     "output_type": "stream",
     "text": [
      "Epoch 1/5\n",
      "\n",
      "Phase: 1/196\n",
      "    lr: (0.01, 0.01, 'linear')\n",
      "    momentum: None\n",
      "\n",
      "Epoch 1/5 5.82s Step 196/196: loss: 1.919138, acc: 29.472000, val_loss: 1.641093, val_acc: 39.380000\n",
      "Epoch 2/5\n",
      "\n",
      "Phase: 1/196\n",
      "    lr: (0.01, 0.1, 'linear')\n",
      "    momentum: None\n",
      "\n",
      "Epoch 2/5 5.85s Step 196/196: loss: 1.820041, acc: 35.568000, val_loss: 2.001775, val_acc: 33.660000\n",
      "Epoch 3/5\n",
      "\n",
      "Phase: 1/196\n",
      "    lr: (0.1, 0.01, 'lin')\n",
      "    momentum: None\n",
      "\n",
      "Epoch 3/5 5.92s Step 196/196: loss: 1.426067, acc: 48.584000, val_loss: 1.133967, val_acc: 59.660000\n",
      "Epoch 4/5\n",
      "\n",
      "Phase: 1/196\n",
      "    lr: (0.1, 0.01, 'tri')\n",
      "    momentum: None\n",
      "\n",
      "Epoch 4/5 6.06s Step 196/196: loss: 1.302140, acc: 53.300000, val_loss: 1.582742, val_acc: 48.340000\n",
      "Epoch 5/5\n",
      "\n",
      "Phase: 1/196\n",
      "    lr: (0.1, 0.01, 'cosine')\n",
      "    momentum: None\n",
      "\n",
      "Epoch 5/5 5.99s Step 196/196: loss: 1.246583, acc: 55.608000, val_loss: 1.636444, val_acc: 46.580000\n"
     ]
    }
   ],
   "source": [
    "# demo some more specs\n",
    "steps = len(train_dl)\n",
    "phases = [\n",
    "    Phase(steps=steps, lr=0.01),  # fix value\n",
    "    Phase(steps=steps, lr=(0.01, 0.1)),  # linear interpolation\n",
    "    Phase(steps=steps, lr=(0.1, 0.01, \"lin\")),\n",
    "    Phase(steps=steps, lr=(0.1, 0.01, \"tri\")),\n",
    "    Phase(steps=steps, lr=(0.1, 0.01, \"cosine\")),\n",
    "]\n",
    "\n",
    "model = get_model()\n",
    "log = model.fit_generator(train_dl, val_dl, epochs=5,\n",
    "                          callbacks=[OptPolicy(phases)])"
   ]
  },
  {
   "cell_type": "markdown",
   "metadata": {},
   "source": [
    "## Plot differen interpolations"
   ]
  },
  {
   "cell_type": "code",
   "execution_count": 17,
   "metadata": {},
   "outputs": [
    {
     "data": {
      "text/plain": [
       "<matplotlib.legend.Legend at 0x7f92891ff0b8>"
      ]
     },
     "execution_count": 17,
     "metadata": {},
     "output_type": "execute_result"
    },
    {
     "data": {
      "image/png": "[encoded data removed]",
      "text/plain": [
       "<Figure size 432x288 with 1 Axes>"
      ]
     },
     "metadata": {},
     "output_type": "display_data"
    }
   ],
   "source": [
    "fig, ax = plt.subplots()\n",
    "\n",
    "phase = Phase(100, lr=(0.1, 1))\n",
    "ax.plot([step[\"lr\"] for step in phase], label=\"linear\")\n",
    "\n",
    "phase = Phase(100, lr=(0.1, 1., \"tri\"))\n",
    "ax.plot([step[\"lr\"] for step in phase], label=\"tri\")\n",
    "\n",
    "phase = Phase(100, lr=(0.1, 1., \"cos\"))\n",
    "ax.plot([step[\"lr\"] for step in phase], label=\"linear\")\n",
    "\n",
    "ax.legend()"
   ]
  },
  {
   "cell_type": "markdown",
   "metadata": {},
   "source": [
    "## SGDR"
   ]
  },
  {
   "cell_type": "code",
   "execution_count": 15,
   "metadata": {},
   "outputs": [
    {
     "name": "stdout",
     "output_type": "stream",
     "text": [
      "Epoch 1/15\n",
      "\n",
      "Phase: 1/196\n",
      "    lr: (0.1, 0.01, 'cos')\n",
      "    momentum: None\n",
      "\n",
      "Epoch 1/15 5.96s Step 196/196: loss: 2.029109, acc: 28.244000, val_loss: 2.141342, val_acc: 30.870000\n",
      "Epoch 2/15\n",
      "\n",
      "Phase: 1/392\n",
      "    lr: (0.1, 0.01, 'cos')\n",
      "    momentum: None\n",
      "\n",
      "Epoch 2/15 6.08s Step 196/196: loss: 1.505914, acc: 45.498000, val_loss: 1.537161, val_acc: 45.000000\n",
      "Epoch 3/15 6.14s Step 196/196: loss: 1.464633, acc: 47.046000, val_loss: 1.543266, val_acc: 45.780000\n",
      "Epoch 4/15\n",
      "\n",
      "Phase: 1/784\n",
      "    lr: (0.1, 0.01, 'cos')\n",
      "    momentum: None\n",
      "\n",
      "Epoch 4/15 6.25s Step 196/196: loss: 1.237058, acc: 55.356000, val_loss: 1.104191, val_acc: 59.700000\n",
      "Epoch 5/15 6.17s Step 196/196: loss: 1.192880, acc: 57.034000, val_loss: 1.290545, val_acc: 54.860000\n",
      "Epoch 6/15 6.22s Step 196/196: loss: 1.203275, acc: 56.806000, val_loss: 1.584007, val_acc: 48.560000\n",
      "Epoch 7/15 6.19s Step 196/196: loss: 1.162999, acc: 58.438000, val_loss: 1.440878, val_acc: 51.240000\n",
      "Epoch 8/15\n",
      "\n",
      "Phase: 1/1568\n",
      "    lr: (0.1, 0.01, 'cos')\n",
      "    momentum: None\n",
      "\n",
      "Epoch 8/15 6.13s Step 196/196: loss: 0.980477, acc: 65.108000, val_loss: 0.866705, val_acc: 69.130000\n",
      "Epoch 9/15 6.20s Step 196/196: loss: 0.938909, acc: 66.430000, val_loss: 0.879157, val_acc: 69.040000\n",
      "Epoch 10/15 6.18s Step 196/196: loss: 0.927857, acc: 66.868000, val_loss: 0.895478, val_acc: 68.160000\n",
      "Epoch 11/15 6.12s Step 196/196: loss: 0.931015, acc: 66.752000, val_loss: 1.094802, val_acc: 62.620000\n",
      "Epoch 12/15 6.13s Step 196/196: loss: 0.937367, acc: 66.900000, val_loss: 1.178582, val_acc: 59.500000\n",
      "Epoch 13/15 6.18s Step 196/196: loss: 0.935004, acc: 66.864000, val_loss: 1.084274, val_acc: 62.480000\n",
      "Epoch 14/15 6.24s Step 196/196: loss: 0.913613, acc: 67.564000, val_loss: 1.047921, val_acc: 63.560000\n",
      "Epoch 15/15 6.30s Step 196/196: loss: 0.888318, acc: 68.706000, val_loss: 1.200999, val_acc: 60.950000\n"
     ]
    }
   ],
   "source": [
    "steps = len(train_dl)\n",
    "\n",
    "# SGDR with multiplier\n",
    "cycle_mult = 2\n",
    "phases = [\n",
    "    Phase(steps * (cycle_mult**i), lr=(0.1, 0.01, \"cos\"))\n",
    "    for i in range(4)\n",
    "]\n",
    "# model, loss, optimizer\n",
    "model = get_model()\n",
    "log = model.fit_generator(train_dl, val_dl, epochs=15,\n",
    "                          callbacks=[OptPolicy(phases)])"
   ]
  },
  {
   "cell_type": "markdown",
   "metadata": {},
   "source": [
    "## Specifying multiple parameters"
   ]
  },
  {
   "cell_type": "code",
   "execution_count": 16,
   "metadata": {},
   "outputs": [
    {
     "name": "stdout",
     "output_type": "stream",
     "text": [
      "Epoch 1/42\n",
      "\n",
      "Phase: 1/3920\n",
      "    lr: (0.01, 1, 'linear')\n",
      "    momentum: (0.95, 0.85, 'linear')\n",
      "\n",
      "Epoch 1/42 6.20s Step 196/196: loss: 1.911161, acc: 33.548000, val_loss: 2.109537, val_acc: 41.130000\n",
      "Epoch 2/42 6.29s Step 196/196: loss: 1.766813, acc: 39.910000, val_loss: 1.632113, val_acc: 41.020000\n",
      "Epoch 3/42 6.23s Step 196/196: loss: 1.469780, acc: 46.796000, val_loss: 1.341495, val_acc: 52.620000\n",
      "Epoch 4/42 6.24s Step 196/196: loss: 1.270484, acc: 54.488000, val_loss: 1.030468, val_acc: 63.190000\n",
      "Epoch 5/42 6.23s Step 196/196: loss: 1.142736, acc: 59.470000, val_loss: 1.088933, val_acc: 61.800000\n",
      "Epoch 6/42 6.28s Step 196/196: loss: 1.054598, acc: 62.648000, val_loss: 0.942151, val_acc: 67.240000\n",
      "Epoch 7/42 6.35s Step 196/196: loss: 0.976676, acc: 65.580000, val_loss: 0.994445, val_acc: 67.440000\n",
      "Epoch 8/42 6.28s Step 196/196: loss: 0.925636, acc: 67.608000, val_loss: 0.842978, val_acc: 71.480000\n",
      "Epoch 9/42 6.27s Step 196/196: loss: 0.885354, acc: 69.272000, val_loss: 0.811209, val_acc: 72.420000\n",
      "Epoch 10/42 6.28s Step 196/196: loss: 0.833684, acc: 70.926000, val_loss: 0.756948, val_acc: 73.640000\n",
      "Epoch 11/42 6.25s Step 196/196: loss: 0.808747, acc: 71.966000, val_loss: 0.695290, val_acc: 75.990000\n",
      "Epoch 12/42 6.24s Step 196/196: loss: 0.771356, acc: 73.372000, val_loss: 0.708054, val_acc: 75.610000\n",
      "Epoch 13/42 6.28s Step 196/196: loss: 0.738352, acc: 74.658000, val_loss: 0.741955, val_acc: 74.470000\n",
      "Epoch 14/42 6.24s Step 196/196: loss: 0.715356, acc: 75.494000, val_loss: 0.715955, val_acc: 75.160000\n",
      "Epoch 15/42 6.19s Step 196/196: loss: 0.698116, acc: 76.144000, val_loss: 0.696037, val_acc: 76.390000\n",
      "Epoch 16/42 6.08s Step 196/196: loss: 0.670278, acc: 77.140000, val_loss: 0.694313, val_acc: 76.660000\n",
      "Epoch 17/42 6.03s Step 196/196: loss: 0.652939, acc: 77.554000, val_loss: 0.688032, val_acc: 76.700000\n",
      "Epoch 18/42 6.05s Step 196/196: loss: 0.631541, acc: 78.384000, val_loss: 0.977823, val_acc: 70.940000\n",
      "Epoch 19/42 5.97s Step 196/196: loss: 0.658589, acc: 77.480000, val_loss: 0.693753, val_acc: 77.300000\n",
      "Epoch 20/42 6.02s Step 196/196: loss: 0.611822, acc: 78.940000, val_loss: 0.647869, val_acc: 78.100000\n",
      "Epoch 21/42\n",
      "\n",
      "Phase: 1/3920\n",
      "    lr: (1, 0.01, 'linear')\n",
      "    momentum: (0.85, 0.95, 'linear')\n",
      "\n",
      "Epoch 21/42 6.01s Step 196/196: loss: 0.582813, acc: 79.778000, val_loss: 0.683290, val_acc: 77.100000\n",
      "Epoch 22/42 6.11s Step 196/196: loss: 0.563666, acc: 80.896000, val_loss: 0.575818, val_acc: 81.030000\n",
      "Epoch 23/42 6.02s Step 196/196: loss: 0.541160, acc: 81.268000, val_loss: 0.567088, val_acc: 80.800000\n",
      "Epoch 24/42 5.98s Step 196/196: loss: 0.524700, acc: 81.940000, val_loss: 0.597311, val_acc: 80.500000\n",
      "Epoch 25/42 6.03s Step 196/196: loss: 0.514056, acc: 82.340000, val_loss: 0.564469, val_acc: 81.440000\n",
      "Epoch 26/42 5.99s Step 196/196: loss: 0.490019, acc: 83.180000, val_loss: 0.568033, val_acc: 80.880000\n",
      "Epoch 27/42 5.98s Step 196/196: loss: 0.475684, acc: 83.558000, val_loss: 0.547536, val_acc: 82.410000\n",
      "Epoch 28/42 5.99s Step 196/196: loss: 0.455339, acc: 84.208000, val_loss: 0.521770, val_acc: 82.620000\n",
      "Epoch 29/42 5.95s Step 196/196: loss: 0.448862, acc: 84.380000, val_loss: 0.520682, val_acc: 83.030000\n",
      "Epoch 30/42 5.99s Step 196/196: loss: 0.428089, acc: 85.294000, val_loss: 0.551329, val_acc: 81.740000\n",
      "Epoch 31/42 5.97s Step 196/196: loss: 0.418786, acc: 85.440000, val_loss: 0.532024, val_acc: 82.570000\n",
      "Epoch 32/42 5.97s Step 196/196: loss: 0.403344, acc: 85.940000, val_loss: 0.510468, val_acc: 82.970000\n",
      "Epoch 33/42 6.02s Step 196/196: loss: 0.391837, acc: 86.508000, val_loss: 0.517589, val_acc: 83.700000\n",
      "Epoch 34/42 5.95s Step 196/196: loss: 0.371187, acc: 87.114000, val_loss: 0.514323, val_acc: 83.090000\n",
      "Epoch 35/42 5.97s Step 196/196: loss: 0.352421, acc: 87.500000, val_loss: 0.508118, val_acc: 83.620000\n",
      "Epoch 36/42 5.98s Step 196/196: loss: 0.333758, acc: 88.350000, val_loss: 0.496722, val_acc: 84.370000\n",
      "Epoch 37/42 6.01s Step 196/196: loss: 0.316195, acc: 88.964000, val_loss: 0.499957, val_acc: 84.240000\n",
      "Epoch 38/42 5.98s Step 196/196: loss: 0.290123, acc: 89.854000, val_loss: 0.478127, val_acc: 85.050000\n",
      "Epoch 39/42 5.95s Step 196/196: loss: 0.268697, acc: 90.606000, val_loss: 0.467007, val_acc: 85.660000\n",
      "Epoch 40/42 5.98s Step 196/196: loss: 0.248970, acc: 91.290000, val_loss: 0.464167, val_acc: 85.680000\n",
      "Epoch 41/42\n",
      "\n",
      "Phase: 1/392\n",
      "    lr: (0.01, 0.005, 'linear')\n",
      "    momentum: (0.95, 0.95, 'linear')\n",
      "\n",
      "Epoch 41/42 6.01s Step 196/196: loss: 0.234111, acc: 91.750000, val_loss: 0.470559, val_acc: 85.660000\n",
      "Epoch 42/42 6.06s Step 196/196: loss: 0.229751, acc: 91.904000, val_loss: 0.466310, val_acc: 85.860000\n"
     ]
    }
   ],
   "source": [
    "steps = len(train_dl)\n",
    "phases = [\n",
    "    # One Cycle policy\n",
    "    Phase(steps=20*steps, lr=(0.01, 1), momentum=(0.95, 0.85)),\n",
    "    Phase(steps=20*steps, lr=(1, 0.01), momentum=(0.85, 0.95)),\n",
    "    Phase(steps=2*steps, lr=(0.01, 0.005), momentum=0.95)\n",
    "] \n",
    "# model, loss, optimizer\n",
    "model = get_model()\n",
    "log = model.fit_generator(train_dl, val_dl, epochs=42,\n",
    "                          callbacks=[OptPolicy(phases)])"
   ]
  }
 ],
 "metadata": {
  "kernelspec": {
   "display_name": "Python 3",
   "language": "python",
   "name": "python3"
  },
  "language_info": {
   "codemirror_mode": {
    "name": "ipython",
    "version": 3
   },
   "file_extension": ".py",
   "mimetype": "text/x-python",
   "name": "python",
   "nbconvert_exporter": "python",
   "pygments_lexer": "ipython3",
   "version": "3.6.5"
  }
 },
 "nbformat": 4,
 "nbformat_minor": 2
}
